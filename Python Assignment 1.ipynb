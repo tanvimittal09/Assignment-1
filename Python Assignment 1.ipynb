{
 "cells": [
  {
   "cell_type": "code",
   "execution_count": 2,
   "metadata": {},
   "outputs": [
    {
     "name": "stdout",
     "output_type": "stream",
     "text": [
      "23\n",
      "['Hey', 'i', 'am', 'from', 'New', 'Delhi']\n"
     ]
    }
   ],
   "source": [
    "#Question 1\n",
    "s = \"Hey i am from New Delhi\"\n",
    "print(len(s))\n",
    "def Convert(string):\n",
    "    li = list(string.split(\" \"))\n",
    "    return li\n",
    "print(Convert(s))"
   ]
  },
  {
   "cell_type": "code",
   "execution_count": 3,
   "metadata": {},
   "outputs": [
    {
     "name": "stdout",
     "output_type": "stream",
     "text": [
      "Name is rahul\n",
      "Name Is Rahul\n",
      "Rame Is Rahul\n",
      "NAME IS RAHUL\n"
     ]
    }
   ],
   "source": [
    "#Question 2\n",
    "s = \"name is rahul\"\n",
    "print(s.capitalize())\n",
    "print(s.title())\n",
    "s1 = \"Name Is Rahul\"\n",
    "print(s1.replace(\"N\",\"R\"))\n",
    "print(s.upper())\n"
   ]
  },
  {
   "cell_type": "code",
   "execution_count": 4,
   "metadata": {},
   "outputs": [
    {
     "name": "stdout",
     "output_type": "stream",
     "text": [
      "Length : 5\n",
      "Breadh : 8\n",
      "Area of rectangle :  40\n",
      "Perimeter of rectangle :  26\n"
     ]
    }
   ],
   "source": [
    "#Question 3\n",
    "l = int(input(\"Length : \"))\n",
    "b = int(input(\"Breadh : \"))\n",
    "area = l*b\n",
    "perimeter = 2*(l+b)\n",
    "print(\"Area of rectangle : \",area)\n",
    "print(\"Perimeter of rectangle : \",perimeter)"
   ]
  },
  {
   "cell_type": "code",
   "execution_count": 1,
   "metadata": {},
   "outputs": [
    {
     "name": "stdout",
     "output_type": "stream",
     "text": [
      "Diameter : 12\n",
      "Radius of circle : 6.00\n",
      "Circumference of circle : 37.68\n",
      "Area of circle : 113.04\n"
     ]
    }
   ],
   "source": [
    "#Question 4\n",
    "PI = 3.14\n",
    "diameter = float(input(\"Diameter : \"))\n",
    "\n",
    "radius = diameter/2\n",
    "circumference = 2 * PI * radius\n",
    "area = PI * radius * radius\n",
    "\n",
    "print(\"Radius of circle : %.2f\" %radius)\n",
    "print(\"Circumference of circle : %.2f\" %circumference)\n",
    "print(\"Area of circle : %.2f\" %area)\n"
   ]
  },
  {
   "cell_type": "code",
   "execution_count": 2,
   "metadata": {},
   "outputs": [
    {
     "name": "stdout",
     "output_type": "stream",
     "text": [
      "real and different roots\n",
      "2.0\n",
      "-12.0\n"
     ]
    }
   ],
   "source": [
    "#Question 5\n",
    "import math\n",
    "def rootsofequation( a, b, c):\n",
    "    dis = b * b - 4 * a * c\n",
    "    sqrt_value = math.sqrt(abs(dis))\n",
    "    if dis > 0:\n",
    "        print(\"real and different roots\")\n",
    "        print((-b + sqrt_value)/(2 * a))\n",
    "        print((-b - sqrt_value)/(2 * a))\n",
    "    elif dis == 0:\n",
    "        print(\"real and same roots\")\n",
    "        print(-b / (2 * a))\n",
    "    else:\n",
    "        print(\"complex roots\")\n",
    "        print(-b / (2 * a), \" + i\", sqrt_value)\n",
    "        print(-b / (2 * a), \" - i\",sqrt_value)\n",
    "a = 1\n",
    "b = 10\n",
    "c = -24 \n",
    "if a == 0:\n",
    "    print(\"Input correct quadratic equation\")\n",
    "else:\n",
    "    rootsofequation( a, b, c)\n"
   ]
  },
  {
   "cell_type": "code",
   "execution_count": 3,
   "metadata": {},
   "outputs": [
    {
     "name": "stdout",
     "output_type": "stream",
     "text": [
      "Radius : 4\n",
      "Volume of Sphere : 267.95\n"
     ]
    }
   ],
   "source": [
    "#Question 6\n",
    "PI = 3.14\n",
    "radius = float(input(\"Radius : \"))\n",
    "volume = (4/3) * PI * radius * radius * radius\n",
    "print(\"Volume of Sphere : %.2f\" %volume)"
   ]
  },
  {
   "cell_type": "code",
   "execution_count": 11,
   "metadata": {},
   "outputs": [
    {
     "name": "stdout",
     "output_type": "stream",
     "text": [
      "Number of digits :  4\n"
     ]
    }
   ],
   "source": [
    "#Question 7\n",
    "def countDigit(n):\n",
    "    count = 0\n",
    "    while n != 0:\n",
    "        n //= 10\n",
    "        count += 1\n",
    "    return count\n",
    "n = 3454\n",
    "print(\"Number of digits : % d\" % (countDigit(n)))"
   ]
  },
  {
   "cell_type": "code",
   "execution_count": 1,
   "metadata": {},
   "outputs": [
    {
     "name": "stdout",
     "output_type": "stream",
     "text": [
      "WELCOME HOME\n"
     ]
    }
   ],
   "source": [
    "#Question 8\n",
    "string = \"Welcome Home\"\n",
    "print(string.upper())"
   ]
  },
  {
   "cell_type": "code",
   "execution_count": 3,
   "metadata": {},
   "outputs": [
    {
     "name": "stdout",
     "output_type": "stream",
     "text": [
      "hello\n",
      "jello\n"
     ]
    }
   ],
   "source": [
    "#Question 9\n",
    "s = \"hello\"\n",
    "s1 = 'j' + s[1:]\n",
    "print(s)\n",
    "print(s1)"
   ]
  },
  {
   "cell_type": "code",
   "execution_count": 5,
   "metadata": {},
   "outputs": [
    {
     "name": "stdout",
     "output_type": "stream",
     "text": [
      "String : Hey there\n",
      "The Original String is :  Hey there\n",
      "The Reversed String is :  ereht yeH\n"
     ]
    }
   ],
   "source": [
    "#Question 10\n",
    "string = input(\"String : \")\n",
    "\n",
    "string1 = ''\n",
    "\n",
    "for i in string:\n",
    "    string1 = i + string1\n",
    "    \n",
    "print(\"The Original String is : \", string)\n",
    "print(\"The Reversed String is : \", string1)"
   ]
  },
  {
   "cell_type": "code",
   "execution_count": null,
   "metadata": {},
   "outputs": [],
   "source": []
  }
 ],
 "metadata": {
  "kernelspec": {
   "display_name": "Python 3",
   "language": "python",
   "name": "python3"
  },
  "language_info": {
   "codemirror_mode": {
    "name": "ipython",
    "version": 3
   },
   "file_extension": ".py",
   "mimetype": "text/x-python",
   "name": "python",
   "nbconvert_exporter": "python",
   "pygments_lexer": "ipython3",
   "version": "3.8.3"
  }
 },
 "nbformat": 4,
 "nbformat_minor": 4
}
